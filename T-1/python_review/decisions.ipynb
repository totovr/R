{
 "cells": [
  {
   "cell_type": "code",
   "execution_count": 1,
   "metadata": {},
   "outputs": [
    {
     "name": "stdout",
     "output_type": "stream",
     "text": [
      "Write a number: 12\n"
     ]
    }
   ],
   "source": [
    "x = int(input(\"Write a number: \"))"
   ]
  },
  {
   "cell_type": "code",
   "execution_count": 2,
   "metadata": {},
   "outputs": [],
   "source": [
    "if x == 3:\n",
    "    print(\"The number that you wrote was a 3\")"
   ]
  },
  {
   "cell_type": "code",
   "execution_count": 3,
   "metadata": {},
   "outputs": [
    {
     "name": "stdout",
     "output_type": "stream",
     "text": [
      "You wrote a number bigger than 10\n"
     ]
    }
   ],
   "source": [
    "if x < 5:\n",
    "    print(\"You wrote a number smaller than 5\")\n",
    "elif x < 10:\n",
    "    print(\"You wrote a number smaller than 10\")\n",
    "else:\n",
    "    print(\"You wrote a number bigger than 10\")"
   ]
  },
  {
   "cell_type": "code",
   "execution_count": 4,
   "metadata": {},
   "outputs": [
    {
     "name": "stdout",
     "output_type": "stream",
     "text": [
      "Write a number: 4\n",
      "The number is in a rank of (0,10)\n"
     ]
    }
   ],
   "source": [
    "x = int(input(\"Write a number: \"))\n",
    "if x > 0 and x < 10:\n",
    "    print(\"The number is in a rank of (0,10)\")"
   ]
  },
  {
   "cell_type": "code",
   "execution_count": 5,
   "metadata": {},
   "outputs": [
    {
     "name": "stdout",
     "output_type": "stream",
     "text": [
      "Write a number: 12\n"
     ]
    }
   ],
   "source": [
    "x = int(input(\"Write a number: \"))\n",
    "if x < 0 and x > 10:\n",
    "    print(\"The number is not in the rank of (0,10)\")"
   ]
  }
 ],
 "metadata": {
  "kernelspec": {
   "display_name": "Python 3",
   "language": "python",
   "name": "python3"
  },
  "language_info": {
   "codemirror_mode": {
    "name": "ipython",
    "version": 3
   },
   "file_extension": ".py",
   "mimetype": "text/x-python",
   "name": "python",
   "nbconvert_exporter": "python",
   "pygments_lexer": "ipython3",
   "version": "3.7.1"
  }
 },
 "nbformat": 4,
 "nbformat_minor": 2
}
