{
 "cells": [
  {
   "cell_type": "code",
   "execution_count": 1,
   "metadata": {},
   "outputs": [],
   "source": [
    "def number():\n",
    "    n = int(input(\"Type a number: \"))\n",
    "    if n > 0:\n",
    "        print(\"This is a positive number\")\n",
    "    elif n == 0:\n",
    "        print(\"The number is a 0\")\n",
    "    else:\n",
    "        print(\"This is a negative number\")"
   ]
  },
  {
   "cell_type": "code",
   "execution_count": 2,
   "metadata": {},
   "outputs": [
    {
     "name": "stdout",
     "output_type": "stream",
     "text": [
      "Type a number: 45\n",
      "This is a positive number\n"
     ]
    }
   ],
   "source": [
    "number()"
   ]
  },
  {
   "cell_type": "code",
   "execution_count": 3,
   "metadata": {},
   "outputs": [],
   "source": [
    "def inRange():\n",
    "    n = int(input(\"Type a number: \"))\n",
    "    if n >= -5 and n <= 5:\n",
    "        print(\"The number that was typed is {} and is in the range bettwen -5 and 5\".format(n))\n",
    "    else:\n",
    "        print(\"Out of range\")"
   ]
  },
  {
   "cell_type": "code",
   "execution_count": 4,
   "metadata": {},
   "outputs": [
    {
     "name": "stdout",
     "output_type": "stream",
     "text": [
      "Type a number: 4\n",
      "The number that was typed is 4 and is in the range bettwen -5 and 5\n"
     ]
    }
   ],
   "source": [
    "inRange()"
   ]
  },
  {
   "cell_type": "code",
   "execution_count": 5,
   "metadata": {},
   "outputs": [],
   "source": [
    "def quadrant():\n",
    "    x = int(input(\"Type x coordinate: \"))\n",
    "    y = int(input(\"Type y coordinate: \"))\n",
    "    if x > 0 and y > 0:\n",
    "        print(\"The coordinate ({},{}) is in the first quadrant\".format(x,y))\n",
    "    elif x > 0 and y < 0:\n",
    "        print(\"The coordinate ({},{}) is in the second quadrant\".format(x,y))\n",
    "    elif x < 0 and y < 0:\n",
    "        print(\"The coordinate ({},{}) is in the third quadrant\".format(x,y))\n",
    "    elif x > 0 and y < 0:\n",
    "        print(\"The coordinate ({},{}) is in the first quadrant\".format(x,y))\n",
    "    else:\n",
    "        print(\"The coordinate ({},{}) is in the origin\".format(x,y))"
   ]
  },
  {
   "cell_type": "code",
   "execution_count": 6,
   "metadata": {},
   "outputs": [
    {
     "name": "stdout",
     "output_type": "stream",
     "text": [
      "Type x coordinate: 4\n",
      "Type y coordinate: 5\n",
      "The coordinate (4,5) is in the first quadrant\n"
     ]
    }
   ],
   "source": [
    "quadrant()"
   ]
  },
  {
   "cell_type": "code",
   "execution_count": 7,
   "metadata": {},
   "outputs": [
    {
     "name": "stdout",
     "output_type": "stream",
     "text": [
      "Introduce and entire number: 34\n",
      "Introduce and entire number different from 0: 4\n",
      "The result of the division is 8 and the module is 2\n"
     ]
    }
   ],
   "source": [
    "class DivisionNumber(object):\n",
    "    entireone= False\n",
    "    entiretwo= False\n",
    "    zeron = False\n",
    "    numberOne = 0\n",
    "    numberTwo = 500\n",
    "\n",
    "    def __init__(self):\n",
    "        \n",
    "        while(not self.entireone):\n",
    "            try:\n",
    "                self.numberOne = int(input(\"Introduce and entire number: \"))\n",
    "                self.entireone = True\n",
    "            except ValueError:\n",
    "                print('Error, introduce an entire number')\n",
    "\n",
    "        while(not self.entiretwo):\n",
    "            try:\n",
    "                self.numberTwo = int(input(\"Introduce and entire number different from 0: \"))   \n",
    "                if self.numberTwo != 0:\n",
    "                    self.entiretwo = True\n",
    "            except ValueError:\n",
    "                print('Error, introduce an entire number, also different from 0')\n",
    "        \n",
    "        self.x = self.numberOne\n",
    "        self.y = self.numberTwo\n",
    "                \n",
    "    def data(self):\n",
    "        self.ndiv = self.x//self.y\n",
    "        self.mod = self.x%self.y\n",
    "        return print(\"The result of the division is {} and the module is {}\".format(self.ndiv, self.mod))\n",
    "\n",
    "div = DivisionNumber()\n",
    "div.data()"
   ]
  },
  {
   "cell_type": "code",
   "execution_count": 8,
   "metadata": {},
   "outputs": [],
   "source": [
    "import math\n",
    "\n",
    "class PerfectSquare(object):\n",
    "    entireone = False\n",
    "    \n",
    "    def __init__(self):\n",
    "        while(not self.entireone):\n",
    "            try:\n",
    "                self.n = float(input(\"Introduce and entire number: \"))\n",
    "                self.entireone= True\n",
    "            except ValueError:\n",
    "                print('Error, introduce an entire number')\n",
    "            else:\n",
    "                self.sqrn = math.sqrt(self.n) # check if is a perfect square\n",
    "                self.w = math.modf(self.sqrn) # separate the float part\n",
    "    \n",
    "    def perfectSquare(self):\n",
    "        if self.w[0] < 0 or 0 < self.w[0]:\n",
    "            print(\"The number {} has not perfect square\".format(self.n))\n",
    "        else:\n",
    "            print(\"The number {} has perfect square and is {}\".format(self.n, self.sqrn))"
   ]
  },
  {
   "cell_type": "code",
   "execution_count": 9,
   "metadata": {},
   "outputs": [
    {
     "name": "stdout",
     "output_type": "stream",
     "text": [
      "Introduce and entire number: 4\n",
      "The number 4.0 has perfect square and is 2.0\n"
     ]
    }
   ],
   "source": [
    "t = PerfectSquare()\n",
    "t.perfectSquare()"
   ]
  },
  {
   "cell_type": "code",
   "execution_count": 10,
   "metadata": {},
   "outputs": [],
   "source": [
    "class LeapYear(object):\n",
    "    \n",
    "    correct = False\n",
    "    isLeap = False\n",
    "    \n",
    "    def __init__(self):\n",
    "            \n",
    "            while(not self.correct):\n",
    "                try:\n",
    "                    self.n = int(input(\"Introduce and entire number, also it must be positive: \"))\n",
    "                    if self.n > 0:\n",
    "                        self.correct= True\n",
    "                except ValueError:\n",
    "                    print('Error, introduce an entire and positive number')\n",
    "                    \n",
    "    def isLeapYear(self):\n",
    "        if self.n%4 == 0:\n",
    "            self.isLeap = True\n",
    "        if self.n%100 == 0:\n",
    "            self.isLeap = False\n",
    "        if self.n%400 == 0:\n",
    "            self.isLeap = True\n",
    "        \n",
    "        if self.isLeap:\n",
    "            print(\"The year is leap\")\n",
    "        else:\n",
    "            print(\"The year is not leap\")"
   ]
  },
  {
   "cell_type": "code",
   "execution_count": 11,
   "metadata": {},
   "outputs": [
    {
     "name": "stdout",
     "output_type": "stream",
     "text": [
      "Introduce and entire number, also it must be positive: 2020\n",
      "The year is leap\n"
     ]
    }
   ],
   "source": [
    "leap_year = LeapYear()\n",
    "leap_year.isLeapYear()"
   ]
  },
  {
   "cell_type": "code",
   "execution_count": 12,
   "metadata": {},
   "outputs": [],
   "source": [
    "# create the list with the coordinates\n",
    "import string\n",
    "\n",
    "class Chees(object):\n",
    "    \n",
    "    coord = list(map(chr, range(97, 105))) # generate the letters\n",
    "    numcoord = []\n",
    "    \n",
    "    def __init__(self, letter, number):\n",
    "        self.letter = letter\n",
    "        self.number = number\n",
    "        \n",
    "    def blackColor(self):\n",
    "        if self.number%2 == 0:\n",
    "            print(\"the box is white\")\n",
    "        else:\n",
    "            print(\"the box is black\")\n",
    "            \n",
    "    def witheColor(self):\n",
    "        if self.number%2 != 0:\n",
    "            print(\"the box is white\")\n",
    "        else:\n",
    "            print(\"the box is black\")\n",
    "    \n",
    "    def analizeLetter(self):   \n",
    "        self.n = self.coord.index(self.letter)\n",
    "        # This analize the color of the box\n",
    "        if self.n == 0:\n",
    "            self.blackColor()\n",
    "        elif self.n%2 != 0:\n",
    "            self.witheColor()\n",
    "        else:\n",
    "            self.blackColor()"
   ]
  },
  {
   "cell_type": "code",
   "execution_count": 13,
   "metadata": {},
   "outputs": [
    {
     "name": "stdout",
     "output_type": "stream",
     "text": [
      "the box is black\n"
     ]
    }
   ],
   "source": [
    "c = Chees(\"b\", 4)\n",
    "c.analizeLetter()"
   ]
  }
 ],
 "metadata": {
  "kernelspec": {
   "display_name": "Python 3",
   "language": "python",
   "name": "python3"
  },
  "language_info": {
   "codemirror_mode": {
    "name": "ipython",
    "version": 3
   },
   "file_extension": ".py",
   "mimetype": "text/x-python",
   "name": "python",
   "nbconvert_exporter": "python",
   "pygments_lexer": "ipython3",
   "version": "3.7.1"
  }
 },
 "nbformat": 4,
 "nbformat_minor": 2
}
