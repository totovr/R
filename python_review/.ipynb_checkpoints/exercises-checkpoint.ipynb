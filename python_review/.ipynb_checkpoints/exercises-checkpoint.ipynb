{
 "cells": [
  {
   "cell_type": "code",
   "execution_count": 6,
   "metadata": {},
   "outputs": [],
   "source": [
    "def number():\n",
    "    n = int(input(\"Type a number: \"))\n",
    "    if n > 0:\n",
    "        print(\"This is a positive number\")\n",
    "    elif n == 0:\n",
    "        print(\"The number is a 0\")\n",
    "    else:\n",
    "        print(\"This is a negative number\")"
   ]
  },
  {
   "cell_type": "code",
   "execution_count": 7,
   "metadata": {},
   "outputs": [
    {
     "name": "stdout",
     "output_type": "stream",
     "text": [
      "Type a number: 0\n",
      "The number is a 0\n"
     ]
    }
   ],
   "source": [
    "number()"
   ]
  },
  {
   "cell_type": "code",
   "execution_count": 13,
   "metadata": {},
   "outputs": [],
   "source": [
    "def inRange():\n",
    "    n = int(input(\"Type a number: \"))\n",
    "    if n >= -5 and n <= 5:\n",
    "        print(\"The number that was typed is {} and is in the range bettwen -5 and 5\".format(n))\n",
    "    else:\n",
    "        print(\"Out of range\")"
   ]
  },
  {
   "cell_type": "code",
   "execution_count": 14,
   "metadata": {},
   "outputs": [
    {
     "name": "stdout",
     "output_type": "stream",
     "text": [
      "Type a number: 4\n",
      "The number that was typed is 4 and is in the range bettwen -5 and 5\n"
     ]
    }
   ],
   "source": [
    "inRange()"
   ]
  },
  {
   "cell_type": "code",
   "execution_count": 21,
   "metadata": {},
   "outputs": [],
   "source": [
    "def quadrant():\n",
    "    x = int(input(\"Type x coordinate: \"))\n",
    "    y = int(input(\"Type y coordinate: \"))\n",
    "    if x > 0 and y > 0:\n",
    "        print(\"The coordinate ({},{}) is in the first quadrant\".format(x,y))\n",
    "    elif x > 0 and y < 0:\n",
    "        print(\"The coordinate ({},{}) is in the second quadrant\".format(x,y))\n",
    "    elif x < 0 and y < 0:\n",
    "        print(\"The coordinate ({},{}) is in the third quadrant\".format(x,y))\n",
    "    elif x > 0 and y < 0:\n",
    "        print(\"The coordinate ({},{}) is in the first quadrant\".format(x,y))\n",
    "    else:\n",
    "        print(\"The coordinate ({},{}) is in the origin\".format(x,y))"
   ]
  },
  {
   "cell_type": "code",
   "execution_count": 22,
   "metadata": {},
   "outputs": [
    {
     "name": "stdout",
     "output_type": "stream",
     "text": [
      "Type x coordinate: 3\n",
      "Type y coordinate: 3\n",
      "The coordinate (3,3) is in the first quadrant\n"
     ]
    }
   ],
   "source": [
    "quadrant()"
   ]
  },
  {
   "cell_type": "code",
   "execution_count": 53,
   "metadata": {},
   "outputs": [],
   "source": [
    "class DivisionNumber(object):\n",
    "    def __init__(self, x, y):\n",
    "        self.x = x\n",
    "        self.y = y\n",
    "    def data(self):\n",
    "        self.ndiv = self.x//self.y\n",
    "        self.mod = self.x%self.y\n",
    "        return print(\"The result of the division is {} and the module is {}\".format(self.ndiv, self.mod))"
   ]
  },
  {
   "cell_type": "code",
   "execution_count": 54,
   "metadata": {},
   "outputs": [
    {
     "name": "stdout",
     "output_type": "stream",
     "text": [
      "Introduce and entire number: 3\n",
      "Introduce and entire number: 3\n",
      "The result of the division is 1 and the module is 0\n"
     ]
    }
   ],
   "source": [
    "class DivisionNumber(object):\n",
    "    def __init__(self, x, y):\n",
    "        self.x = x\n",
    "        self.y = y\n",
    "    def data(self):\n",
    "        self.ndiv = self.x//self.y\n",
    "        self.mod = self.x%self.y\n",
    "        return print(\"The result of the division is {} and the module is {}\".format(self.ndiv, self.mod))\n",
    "    \n",
    "entireone=False\n",
    "entiretwo=False\n",
    "numberOne = 0\n",
    "numberTwo = 0\n",
    "\n",
    "while(not entireone):\n",
    "    try:\n",
    "        numberOne= int(input(\"Introduce and entire number: \"))\n",
    "        entireone= True\n",
    "    except ValueError:\n",
    "        print('Error, introduce an entire number')\n",
    "\n",
    "while(not entiretwo):\n",
    "    try:\n",
    "        numberTwo = int(input(\"Introduce and entire number: \"))\n",
    "        entiretwo = True\n",
    "    except ValueError:\n",
    "        print('Error, introduce an entire number')\n",
    "\n",
    "div = DivisionNumber(numberOne, numberTwo)\n",
    "div.data()"
   ]
  },
  {
   "cell_type": "code",
   "execution_count": null,
   "metadata": {},
   "outputs": [],
   "source": []
  }
 ],
 "metadata": {
  "kernelspec": {
   "display_name": "Python 3",
   "language": "python",
   "name": "python3"
  },
  "language_info": {
   "codemirror_mode": {
    "name": "ipython",
    "version": 3
   },
   "file_extension": ".py",
   "mimetype": "text/x-python",
   "name": "python",
   "nbconvert_exporter": "python",
   "pygments_lexer": "ipython3",
   "version": "3.7.1"
  }
 },
 "nbformat": 4,
 "nbformat_minor": 2
}
